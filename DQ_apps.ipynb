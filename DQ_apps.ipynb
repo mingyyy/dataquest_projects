{
 "cells": [
  {
   "cell_type": "markdown",
   "metadata": {},
   "source": [
    "## Potential Application Study for Android and iOS Mobile Markets\n",
    "\n",
    "### Overview of the project\n",
    "\n",
    "The main purpose of this project is to gain insights into the relationship between mobile apps and the users. The focus of app development is on how to attract as many users as possible since the revenue mainly comes from in-app ads rather than user payment. \n",
    "\n",
    "\n",
    "### Data sets description\n",
    "\n",
    "As of 2018, there were about 4 million apps available in Google Play and App Store. However, we are using only a small subset of it for simpility. \n",
    "\n",
    "1. Approximately 10,000 Android apps from Google Play, dated in August 2018.\n",
    "2. Rougly 7,000 iOS apps from App Store, collected in July 2017.\n",
    "\n"
   ]
  },
  {
   "cell_type": "code",
   "execution_count": 52,
   "metadata": {},
   "outputs": [],
   "source": [
    "from csv import reader\n",
    "appfile_name='AppleStore.csv'\n",
    "path=f'/Users/Ming/jupyter/p_apps/{appfile_name}'\n",
    "open_file = open(path)\n",
    "read_file = reader(open_file)\n",
    "ios = list(read_file)"
   ]
  },
  {
   "cell_type": "code",
   "execution_count": 214,
   "metadata": {},
   "outputs": [],
   "source": [
    "goofile_name='googleplaystore.csv'\n",
    "path=f'/Users/Ming/jupyter/p_apps/{goofile_name}'\n",
    "open_file = open(path)\n",
    "read_file = reader(open_file)\n",
    "adr = list(read_file)"
   ]
  },
  {
   "cell_type": "markdown",
   "metadata": {},
   "source": [
    "Exploring the datasets, we see some overlapping of the columns between the two sets, e.g. name and genre of the apps, price, ratings, reviews etc. However, we must be cautious when comparing apps across different market."
   ]
  },
  {
   "cell_type": "code",
   "execution_count": 330,
   "metadata": {},
   "outputs": [
    {
     "name": "stdout",
     "output_type": "stream",
     "text": [
      "['', 'id', 'track_name', 'size_bytes', 'currency', 'price', 'rating_count_tot', 'rating_count_ver', 'user_rating', 'user_rating_ver', 'ver', 'cont_rating', 'prime_genre', 'sup_devices.num', 'ipadSc_urls.num', 'lang.num', 'vpp_lic']\n",
      "\n",
      "\n",
      "['1', '281656475', 'PAC-MAN Premium', '100788224', 'USD', '3.99', '21292', '26', '4', '4.5', '6.3.5', '4+', 'Games', '38', '5', '10', '1']\n",
      "\n",
      "\n",
      "['2', '281796108', 'Evernote - stay organized', '158578688', 'USD', '0', '161065', '26', '4', '3.5', '8.2.2', '4+', 'Productivity', '37', '5', '23', '1']\n",
      "\n",
      "\n",
      "['3', '281940292', 'WeatherBug - Local Weather, Radar, Maps, Alerts', '100524032', 'USD', '0', '188583', '2822', '3.5', '4.5', '5.0.0', '4+', 'Weather', '37', '5', '3', '1']\n",
      "\n",
      "\n",
      "['4', '282614216', 'eBay: Best App to Buy, Sell, Save! Online Shopping', '128512000', 'USD', '0', '262241', '649', '4', '4.5', '5.10.0', '12+', 'Shopping', '37', '5', '9', '1']\n",
      "\n",
      "\n",
      "['5', '282935706', 'Bible', '92774400', 'USD', '0', '985920', '5320', '4.5', '5', '7.5.1', '4+', 'Reference', '37', '5', '45', '1']\n",
      "\n",
      "\n",
      "['6', '283619399', 'Shanghai Mahjong', '10485713', 'USD', '0.99', '8253', '5516', '4', '4', '1.8', '4+', 'Games', '47', '5', '1', '1']\n",
      "\n",
      "\n",
      "['7', '283646709', 'PayPal - Send and request money safely', '227795968', 'USD', '0', '119487', '879', '4', '4.5', '6.12.0', '4+', 'Finance', '37', '0', '19', '1']\n",
      "\n",
      "\n",
      "['8', '284035177', 'Pandora - Music & Radio', '130242560', 'USD', '0', '1126879', '3594', '4', '4.5', '8.4.1', '12+', 'Music', '37', '4', '1', '1']\n",
      "\n",
      "\n",
      "['9', '284666222', 'PCalc - The Best Calculator', '49250304', 'USD', '9.99', '1117', '4', '4.5', '5', '3.6.6', '4+', 'Utilities', '37', '5', '1', '1']\n",
      "\n",
      "\n",
      "Number of rows: 7198\n",
      "Number of columns: 17\n",
      "['App', 'Category', 'Rating', 'Reviews', 'Size', 'Installs', 'Type', 'Price', 'Content Rating', 'Genres', 'Last Updated', 'Current Ver', 'Android Ver']\n",
      "\n",
      "\n",
      "['Photo Editor & Candy Camera & Grid & ScrapBook', 'ART_AND_DESIGN', '4.1', '159', '19M', '10,000+', 'Free', '0', 'Everyone', 'Art & Design', 'January 7, 2018', '1.0.0', '4.0.3 and up']\n",
      "\n",
      "\n",
      "Number of rows: 9661\n",
      "Number of columns: 13\n"
     ]
    }
   ],
   "source": [
    "def explore_data(dataset, start, end, rows_and_columns=False):\n",
    "    dataset_slice = dataset[start:end]    \n",
    "    for row in dataset_slice:\n",
    "        print(row)\n",
    "        print('\\n') # adds a new (empty) line after each row\n",
    "\n",
    "    if rows_and_columns:\n",
    "        print('Number of rows:', len(dataset))\n",
    "        print('Number of columns:', len(dataset[0]))\n",
    "        \n",
    "explore_data(ios, 0, 10, True)\n",
    "explore_data(adr, 0, 2, True)"
   ]
  },
  {
   "cell_type": "markdown",
   "metadata": {},
   "source": [
    "### Data cleaning\n",
    "\n",
    "#### Correction:\n",
    "* A well-known mistake of missing category on line 10473 for Google Play dataset. I have kept it and put it under \"TOOLS\" category.\n",
    "`['Life Made WI-Fi Touchscreen Photo Frame', 'TOOLS', '1.9', '19', '3.0M', '1,000+', 'Free', '0', 'Everyone', 'TOOLS', 'February 11, 2018', '1.0.19', '4.0 and up']`\n",
    "\n",
    "* Duplicate entries. Noticed there are duplicate apps in Android data set. In fact, 1181 number of duplicates has been detected. For instance, Instagram showed up 4 times with different number of reviews. Therefore, I will keep the one with the most number of reviews and delete the rest. Two different methods have been applied which lead to the same results. In the end, 9660 unique apps are saved."
   ]
  },
  {
   "cell_type": "code",
   "execution_count": 280,
   "metadata": {},
   "outputs": [
    {
     "name": "stdout",
     "output_type": "stream",
     "text": [
      "Number of duplicate apps in Apple dataset: 0\n",
      "Number of duplicate apps in Android dataset: 0\n"
     ]
    }
   ],
   "source": [
    "# looking for duplicates. print out the number of duplicates.\n",
    "duplicate_apps = []\n",
    "unique_apps = []\n",
    "for app in ios:\n",
    "    name = app[0]\n",
    "    if name in unique_apps:\n",
    "        duplicate_apps.append(name)\n",
    "    else:\n",
    "        unique_apps.append(name)\n",
    "print(f'Number of duplicate apps in Apple dataset: {len(duplicate_apps)}')\n",
    "\n",
    "duplicate_apps = []\n",
    "unique_apps = []\n",
    "for app in adr:\n",
    "    name = app[0]\n",
    "    if name in unique_apps:\n",
    "        duplicate_apps.append(name)\n",
    "    else:\n",
    "        unique_apps.append(name)\n",
    "print(f'Number of duplicate apps in Android dataset: {len(duplicate_apps)}')\n",
    "    "
   ]
  },
  {
   "cell_type": "code",
   "execution_count": 274,
   "metadata": {},
   "outputs": [
    {
     "name": "stdout",
     "output_type": "stream",
     "text": [
      "1917 ['Instagram', 'SOCIAL', '4.5', '66577446', 'Varies with device', '1,000,000,000+', 'Free', '0', 'Teen', 'Social', 'July 31, 2018', 'Varies with device', 'Varies with device']\n"
     ]
    }
   ],
   "source": [
    "# one example of a duplicate. Instagram has 4 lines in the dataset. \n",
    "# We need to keep the most recent one, a.k.a with the highest review number.\n",
    "\n",
    "for i, app in enumerate(adr[1:],1):\n",
    "    name=app[0]\n",
    "    if name == 'Instagram':\n",
    "        print(i, app)    "
   ]
  },
  {
   "cell_type": "code",
   "execution_count": 242,
   "metadata": {},
   "outputs": [
    {
     "name": "stdout",
     "output_type": "stream",
     "text": [
      "[]\n"
     ]
    }
   ],
   "source": [
    "# Method 1: List\n",
    "# collect the position of the duplicates in a list \n",
    "d_list=[]\n",
    "for duplicate in duplicate_apps:\n",
    "    app_review, app_position = -1, 0\n",
    "    for i, app in enumerate(adr[1:]):\n",
    "        name, review = app[0], int(app[3])       \n",
    "        if name == duplicate:\n",
    "            if app_review == -1:\n",
    "                app_review, app_position = review, i\n",
    "            elif review <= app_review:\n",
    "                d_list.append(i+1)\n",
    "            elif review > app_review:\n",
    "                d_list.append(app_position+1)\n",
    "                app_review, app_position = review, i"
   ]
  },
  {
   "cell_type": "code",
   "execution_count": 236,
   "metadata": {},
   "outputs": [],
   "source": [
    "# remove the duplicates from the list, sort the list and then delete accordingly (reduce the length gradually) \n",
    "l=list(set(d_list))\n",
    "l.sort()\n",
    "counter = 0\n",
    "for x in l:\n",
    "    del adr[int(x)-counter]\n",
    "    counter += 1"
   ]
  },
  {
   "cell_type": "code",
   "execution_count": 249,
   "metadata": {},
   "outputs": [
    {
     "name": "stdout",
     "output_type": "stream",
     "text": [
      "9661\n"
     ]
    }
   ],
   "source": [
    "print(len(adr)) # including the header and the one line that has been modified"
   ]
  },
  {
   "cell_type": "code",
   "execution_count": 251,
   "metadata": {},
   "outputs": [
    {
     "name": "stdout",
     "output_type": "stream",
     "text": [
      "9660\n"
     ]
    }
   ],
   "source": [
    "# method 2: Dictionary\n",
    "# first, gather the max reviews for all apps\n",
    "reviews_max={}\n",
    "for app in adr[1:]:\n",
    "    name=app[0]\n",
    "    n_reviews=float(app[3])\n",
    "    if name in reviews_max and reviews_max[name] < n_reviews:\n",
    "        reviews_max[name]=n_reviews\n",
    "    elif name not in reviews_max:\n",
    "        reviews_max[name]=n_reviews\n",
    "print(len(reviews_max))"
   ]
  },
  {
   "cell_type": "code",
   "execution_count": 252,
   "metadata": {},
   "outputs": [
    {
     "name": "stdout",
     "output_type": "stream",
     "text": [
      "9660\n"
     ]
    }
   ],
   "source": [
    "# second: collect the cleaned data set\n",
    "android_clean=[]\n",
    "already_added=[]\n",
    "for app in adr[1:]:\n",
    "    name=app[0]\n",
    "    n_reviews=float(app[3])\n",
    "    if n_reviews == reviews_max[name] and name not in already_added:\n",
    "        android_clean.append(app)\n",
    "        already_added.append(name)\n",
    "print(len(android_clean))"
   ]
  },
  {
   "cell_type": "markdown",
   "metadata": {},
   "source": [
    "#### Selection:\n",
    "Based on the main purpose of this project, we have to clean the dataset to keep only the relevent information.\n",
    "\n",
    "1. Since this analysis is toward English-speaking audience, those non-English apps are removed. The criteria for the non-English apps is that there are more than three non-English characters detected from the name. Therefore, 45 apps are defined as Non-English apps and are not included. \n",
    "2. Only free apps will be included, therefore non-free ones are removed."
   ]
  },
  {
   "cell_type": "code",
   "execution_count": 267,
   "metadata": {},
   "outputs": [
    {
     "name": "stdout",
     "output_type": "stream",
     "text": [
      "True\n"
     ]
    }
   ],
   "source": [
    "# Remove Non-English apps\n",
    "# 1. create a function which return True if there are more than three non-english characters in the name\n",
    "def english_check(a_string):\n",
    "    counter=0\n",
    "    for x in a_string:\n",
    "        if ord(x)>127:\n",
    "            counter += 1\n",
    "    if counter > 3:\n",
    "        return False\n",
    "    else:\n",
    "        return True\n",
    "print(english_check('Instachat 😜'))\n"
   ]
  },
  {
   "cell_type": "code",
   "execution_count": 283,
   "metadata": {},
   "outputs": [
    {
     "name": "stdout",
     "output_type": "stream",
     "text": [
      "45\n",
      "1014\n"
     ]
    }
   ],
   "source": [
    "# 2. collect all the non-English apps for android.\n",
    "non_english=[]\n",
    "for app in android_clean:\n",
    "    if not english_check(app[0]):\n",
    "        non_english.append(app)\n",
    "print(len(non_english))\n",
    "\n",
    "# 2. collect all the non-English apps for ios.\n",
    "non_english_ios=[]\n",
    "for app in ios:\n",
    "    if not english_check(app[2]):\n",
    "        non_english_ios.append(app)\n",
    "print(len(non_english_ios))"
   ]
  },
  {
   "cell_type": "code",
   "execution_count": 284,
   "metadata": {},
   "outputs": [
    {
     "name": "stdout",
     "output_type": "stream",
     "text": [
      "9615\n",
      "6184\n"
     ]
    }
   ],
   "source": [
    "# 3. collect all English apps for android.\n",
    "english_app = []\n",
    "for app in android_clean:\n",
    "    if english_check(app[0]):\n",
    "        english_app.append(app)\n",
    "print(len(english_app))\n",
    "\n",
    "# 3. collect all English apps for ios.\n",
    "english_app_ios = []\n",
    "for app in ios:\n",
    "    if english_check(app[2]):\n",
    "        english_app_ios.append(app)\n",
    "print(len(english_app_ios))"
   ]
  },
  {
   "cell_type": "code",
   "execution_count": 287,
   "metadata": {},
   "outputs": [
    {
     "name": "stdout",
     "output_type": "stream",
     "text": [
      "8864\n",
      "3222\n"
     ]
    }
   ],
   "source": [
    "# Collect all Free English apps in Google Play\n",
    "free_english_adr=[]\n",
    "for app in english_app:\n",
    "    if app[6] == 'Free':\n",
    "        free_english_adr.append(app)\n",
    "print(len(free_english_adr))\n",
    "\n",
    "free_english_ios=[]\n",
    "for app in english_app_ios[1:]:\n",
    "    if float(app[5]) <= 0.000001:\n",
    "        free_english_ios.append(app)\n",
    "print(len(free_english_ios))"
   ]
  },
  {
   "cell_type": "markdown",
   "metadata": {},
   "source": [
    "### Data Analysis\n",
    "The current workflow of the new app development in the company works as follows:\n",
    "1. Create a MVP(Minimum viable product) of an idea for an Android phone, and place it on Google Play.\n",
    "2. Develop the product further if the initial responses are positive.\n",
    "3. If this app is profitable after 6 months at Google Play, we will build an iOS version for Apple store. \n",
    "\n",
    "Because the ultimate goal is to capture both the Android phone and the iPhone markets, we have to look at both the trends in Apple store and Google Play. In the coming section, I will find the common genre in both markets by looking at the frequency tables in both cleaned data sets.\n",
    "\n"
   ]
  },
  {
   "cell_type": "code",
   "execution_count": 305,
   "metadata": {},
   "outputs": [],
   "source": [
    "# Generate frequency table through a freq_table funciton\n",
    "def freq_table(dataset, index):\n",
    "    freq={}\n",
    "    n = 0\n",
    "    for item in dataset:\n",
    "        n += 1\n",
    "        key = item[index]\n",
    "        if key in freq:\n",
    "            freq[key] += 1\n",
    "        else:\n",
    "            freq[key] = 1\n",
    "    for x in freq:\n",
    "        freq[x] = float(freq[x])*(100/n) \n",
    "    return freq\n",
    "\n",
    "# print(freq_table(free_english_adr,1))\n",
    "# print('\\n')\n",
    "# print(freq_table(free_english_adr,9))\n",
    "# print('\\n')\n",
    "# print(freq_table(free_english_ios,12))\n"
   ]
  },
  {
   "cell_type": "code",
   "execution_count": 307,
   "metadata": {},
   "outputs": [],
   "source": [
    "# sort the frequency table\n",
    "def display_table(dataset, index):\n",
    "    table = freq_table(dataset, index)\n",
    "    table_display = []\n",
    "    for key in table:\n",
    "        key_val_as_tuple = (table[key], key)\n",
    "        table_display.append(key_val_as_tuple)\n",
    "\n",
    "    table_sorted = sorted(table_display, reverse = True)\n",
    "    for entry in table_sorted:\n",
    "        print(entry[1], ':', entry[0])"
   ]
  },
  {
   "cell_type": "code",
   "execution_count": 308,
   "metadata": {},
   "outputs": [
    {
     "name": "stdout",
     "output_type": "stream",
     "text": [
      "FAMILY : 18.896660649819495\n",
      "GAME : 9.724729241877258\n",
      "TOOLS : 8.472472924187727\n",
      "BUSINESS : 4.591606498194946\n",
      "LIFESTYLE : 3.903429602888087\n",
      "PRODUCTIVITY : 3.8921480144404335\n",
      "FINANCE : 3.700361010830325\n",
      "MEDICAL : 3.531137184115524\n",
      "SPORTS : 3.3957581227436826\n",
      "PERSONALIZATION : 3.3167870036101084\n",
      "COMMUNICATION : 3.2378158844765346\n",
      "HEALTH_AND_FITNESS : 3.0798736462093865\n",
      "PHOTOGRAPHY : 2.9444945848375452\n",
      "NEWS_AND_MAGAZINES : 2.7978339350180508\n",
      "SOCIAL : 2.6624548736462095\n",
      "TRAVEL_AND_LOCAL : 2.3352888086642603\n",
      "SHOPPING : 2.2450361010830324\n",
      "BOOKS_AND_REFERENCE : 2.143501805054152\n",
      "DATING : 1.861462093862816\n",
      "VIDEO_PLAYERS : 1.7937725631768955\n",
      "MAPS_AND_NAVIGATION : 1.3989169675090254\n",
      "FOOD_AND_DRINK : 1.2409747292418774\n",
      "EDUCATION : 1.1620036101083033\n",
      "ENTERTAINMENT : 0.9589350180505416\n",
      "LIBRARIES_AND_DEMO : 0.9363718411552348\n",
      "AUTO_AND_VEHICLES : 0.9250902527075813\n",
      "HOUSE_AND_HOME : 0.8235559566787004\n",
      "WEATHER : 0.8009927797833936\n",
      "EVENTS : 0.7107400722021661\n",
      "PARENTING : 0.654332129963899\n",
      "ART_AND_DESIGN : 0.6430505415162455\n",
      "COMICS : 0.6204873646209387\n",
      "BEAUTY : 0.5979241877256318\n"
     ]
    }
   ],
   "source": [
    "# category for free english android apps\n",
    "display_table(free_english_adr,1)"
   ]
  },
  {
   "cell_type": "code",
   "execution_count": 309,
   "metadata": {},
   "outputs": [
    {
     "name": "stdout",
     "output_type": "stream",
     "text": [
      "Tools : 8.44990974729242\n",
      "Entertainment : 6.069494584837545\n",
      "Education : 5.347472924187726\n",
      "Business : 4.591606498194946\n",
      "Productivity : 3.8921480144404335\n",
      "Lifestyle : 3.8921480144404335\n",
      "Finance : 3.700361010830325\n",
      "Medical : 3.531137184115524\n",
      "Sports : 3.4634476534296033\n",
      "Personalization : 3.3167870036101084\n",
      "Communication : 3.2378158844765346\n",
      "Action : 3.1024368231046933\n",
      "Health & Fitness : 3.0798736462093865\n",
      "Photography : 2.9444945848375452\n",
      "News & Magazines : 2.7978339350180508\n",
      "Social : 2.6624548736462095\n",
      "Travel & Local : 2.3240072202166067\n",
      "Shopping : 2.2450361010830324\n",
      "Books & Reference : 2.143501805054152\n",
      "Simulation : 2.041967509025271\n",
      "Dating : 1.861462093862816\n",
      "Arcade : 1.8501805054151625\n",
      "Video Players & Editors : 1.7712093862815885\n",
      "Casual : 1.7599277978339352\n",
      "Maps & Navigation : 1.3989169675090254\n",
      "Food & Drink : 1.2409747292418774\n",
      "Puzzle : 1.128158844765343\n",
      "Racing : 0.9927797833935019\n",
      "Role Playing : 0.9363718411552348\n",
      "Libraries & Demo : 0.9363718411552348\n",
      "Auto & Vehicles : 0.9250902527075813\n",
      "Strategy : 0.9025270758122744\n",
      "House & Home : 0.8235559566787004\n",
      "Weather : 0.8009927797833936\n",
      "Events : 0.7107400722021661\n",
      "Adventure : 0.6768953068592058\n",
      "Comics : 0.6092057761732852\n",
      "Beauty : 0.5979241877256318\n",
      "Art & Design : 0.5979241877256318\n",
      "Parenting : 0.49638989169675096\n",
      "Card : 0.4512635379061372\n",
      "Casino : 0.42870036101083037\n",
      "Trivia : 0.41741877256317694\n",
      "Educational;Education : 0.39485559566787004\n",
      "Board : 0.3835740072202166\n",
      "Educational : 0.3722924187725632\n",
      "Education;Education : 0.3384476534296029\n",
      "Word : 0.2594765342960289\n",
      "Casual;Pretend Play : 0.23691335740072203\n",
      "Music : 0.20306859205776173\n",
      "Racing;Action & Adventure : 0.16922382671480146\n",
      "Puzzle;Brain Games : 0.16922382671480146\n",
      "Entertainment;Music & Video : 0.16922382671480146\n",
      "Casual;Brain Games : 0.13537906137184116\n",
      "Casual;Action & Adventure : 0.13537906137184116\n",
      "Arcade;Action & Adventure : 0.12409747292418774\n",
      "Action;Action & Adventure : 0.10153429602888087\n",
      "Educational;Pretend Play : 0.09025270758122744\n",
      "Simulation;Action & Adventure : 0.07897111913357402\n",
      "Parenting;Education : 0.07897111913357402\n",
      "Entertainment;Brain Games : 0.07897111913357402\n",
      "Board;Brain Games : 0.07897111913357402\n",
      "Parenting;Music & Video : 0.06768953068592058\n",
      "Educational;Brain Games : 0.06768953068592058\n",
      "Casual;Creativity : 0.06768953068592058\n",
      "Art & Design;Creativity : 0.06768953068592058\n",
      "Education;Pretend Play : 0.05640794223826715\n",
      "Role Playing;Pretend Play : 0.04512635379061372\n",
      "Education;Creativity : 0.04512635379061372\n",
      "Role Playing;Action & Adventure : 0.03384476534296029\n",
      "Puzzle;Action & Adventure : 0.03384476534296029\n",
      "Entertainment;Creativity : 0.03384476534296029\n",
      "Entertainment;Action & Adventure : 0.03384476534296029\n",
      "Educational;Creativity : 0.03384476534296029\n",
      "Educational;Action & Adventure : 0.03384476534296029\n",
      "Education;Music & Video : 0.03384476534296029\n",
      "Education;Brain Games : 0.03384476534296029\n",
      "Education;Action & Adventure : 0.03384476534296029\n",
      "Adventure;Action & Adventure : 0.03384476534296029\n",
      "Video Players & Editors;Music & Video : 0.02256317689530686\n",
      "Sports;Action & Adventure : 0.02256317689530686\n",
      "Simulation;Pretend Play : 0.02256317689530686\n",
      "Puzzle;Creativity : 0.02256317689530686\n",
      "Music;Music & Video : 0.02256317689530686\n",
      "Entertainment;Pretend Play : 0.02256317689530686\n",
      "Casual;Education : 0.02256317689530686\n",
      "Board;Action & Adventure : 0.02256317689530686\n",
      "Video Players & Editors;Creativity : 0.01128158844765343\n",
      "Trivia;Education : 0.01128158844765343\n",
      "Travel & Local;Action & Adventure : 0.01128158844765343\n",
      "Tools;Education : 0.01128158844765343\n",
      "TOOLS : 0.01128158844765343\n",
      "Strategy;Education : 0.01128158844765343\n",
      "Strategy;Creativity : 0.01128158844765343\n",
      "Strategy;Action & Adventure : 0.01128158844765343\n",
      "Simulation;Education : 0.01128158844765343\n",
      "Role Playing;Brain Games : 0.01128158844765343\n",
      "Racing;Pretend Play : 0.01128158844765343\n",
      "Puzzle;Education : 0.01128158844765343\n",
      "Parenting;Brain Games : 0.01128158844765343\n",
      "Music & Audio;Music & Video : 0.01128158844765343\n",
      "Lifestyle;Pretend Play : 0.01128158844765343\n",
      "Lifestyle;Education : 0.01128158844765343\n",
      "Health & Fitness;Education : 0.01128158844765343\n",
      "Health & Fitness;Action & Adventure : 0.01128158844765343\n",
      "Entertainment;Education : 0.01128158844765343\n",
      "Communication;Creativity : 0.01128158844765343\n",
      "Comics;Creativity : 0.01128158844765343\n",
      "Casual;Music & Video : 0.01128158844765343\n",
      "Card;Action & Adventure : 0.01128158844765343\n",
      "Books & Reference;Education : 0.01128158844765343\n",
      "Art & Design;Pretend Play : 0.01128158844765343\n",
      "Art & Design;Action & Adventure : 0.01128158844765343\n",
      "Arcade;Pretend Play : 0.01128158844765343\n",
      "Adventure;Education : 0.01128158844765343\n"
     ]
    }
   ],
   "source": [
    "# genre for free english android apps\n",
    "display_table(free_english_adr,9)"
   ]
  },
  {
   "cell_type": "code",
   "execution_count": 311,
   "metadata": {},
   "outputs": [
    {
     "name": "stdout",
     "output_type": "stream",
     "text": [
      "Games : 58.16263190564866\n",
      "Entertainment : 7.883302296710117\n",
      "Photo & Video : 4.9658597144630665\n",
      "Education : 3.6623215394165114\n",
      "Social Networking : 3.2898820608317814\n",
      "Shopping : 2.60707635009311\n",
      "Utilities : 2.513966480446927\n",
      "Sports : 2.1415270018621975\n",
      "Music : 2.0484171322160147\n",
      "Health & Fitness : 2.0173805090006205\n",
      "Productivity : 1.7380509000620732\n",
      "Lifestyle : 1.5828677839851024\n",
      "News : 1.3345747982619491\n",
      "Travel : 1.2414649286157666\n",
      "Finance : 1.1173184357541899\n",
      "Weather : 0.8690254500310366\n",
      "Food & Drink : 0.8069522036002482\n",
      "Reference : 0.5586592178770949\n",
      "Business : 0.5276225946617008\n",
      "Book : 0.4345127250155183\n",
      "Navigation : 0.186219739292365\n",
      "Medical : 0.186219739292365\n",
      "Catalogs : 0.12414649286157665\n"
     ]
    }
   ],
   "source": [
    "# prime genre for free english ios apps\n",
    "\n",
    "display_table(free_english_ios,12)"
   ]
  },
  {
   "cell_type": "markdown",
   "metadata": {},
   "source": [
    "#### Genres(Categories): percentage\n",
    "1. Apple store.\n",
    "It is clear that \"Game\" is the most common prime genre in our iOS dataset (free English apps in Apple store). More than 58% of the apps belongs to this genre while the runner up (\"Entertainment\") only makes less than 8%. Moreover, 4 out of the top 5 in the list belong to the more general leisure genre which has a landslide win based on our data; the majority of the apps are dedicated to leisure purpose. \n",
    "\n",
    "2. Google Play. \n",
    "Compared to those in our iOS dataset, the apps in the Android dataset (free English apps in Google Play) demonstrate a more balanced mix based on the frequency table on \"Categeory\" and \"Genre\" columns. \n",
    "\n",
    "Nonetheless, higher portion of the market doesn't translate to popularity which could be measured by number of users. Because we are primarily interested in the number of user of an app, it is of great importance for us to have an idea of the user base. In Google Play dataset, we have the number of installs which could be a good measure of the user base. Meanwhile, we could use the average reviews per genre to get an idea of the number of users. Here, we have to make the assumption that there is a linear relationship between the number of users and the number of reviews. \n"
   ]
  },
  {
   "cell_type": "code",
   "execution_count": 317,
   "metadata": {},
   "outputs": [
    {
     "name": "stdout",
     "output_type": "stream",
     "text": [
      "Navigation : 86090.33333333333\n",
      "Reference : 74942.11111111111\n",
      "Social Networking : 71548.34905660378\n",
      "Music : 57326.530303030304\n",
      "Weather : 52279.892857142855\n",
      "Book : 39758.5\n",
      "Food & Drink : 33333.92307692308\n",
      "Finance : 31467.944444444445\n",
      "Photo & Video : 28441.54375\n",
      "Travel : 28243.8\n",
      "Shopping : 26919.690476190477\n",
      "Health & Fitness : 23298.015384615384\n",
      "Sports : 23008.898550724636\n",
      "Games : 22788.6696905016\n",
      "News : 21248.023255813954\n",
      "Productivity : 21028.410714285714\n",
      "Utilities : 18684.456790123455\n",
      "Lifestyle : 16485.764705882353\n",
      "Entertainment : 14029.830708661417\n",
      "Business : 7491.117647058823\n",
      "Education : 7003.983050847458\n",
      "Catalogs : 4004.0\n",
      "Medical : 612.0\n"
     ]
    }
   ],
   "source": [
    "# display the genre and the number of reviews(proxy for users) for free english iOS apps\n",
    "table = {}\n",
    "for genre in freq_table(free_english_ios,12):\n",
    "    total = 0\n",
    "    len_genre = 0 \n",
    "    \n",
    "    for app in free_english_ios:\n",
    "        genre_app = app[12]\n",
    "        if genre_app == genre:\n",
    "            total += float(app[6])\n",
    "            len_genre += 1\n",
    "    avg_review= total/len_genre\n",
    "    table[genre]= avg_review\n",
    "    \n",
    "table_display = []\n",
    "for key in table:\n",
    "    key_val_as_tuple = (table[key], key)\n",
    "    table_display.append(key_val_as_tuple)\n",
    "\n",
    "table_sorted = sorted(table_display, reverse = True)\n",
    "for entry in table_sorted:\n",
    "    print(entry[1], ':', entry[0])    "
   ]
  },
  {
   "cell_type": "code",
   "execution_count": 332,
   "metadata": {},
   "outputs": [
    {
     "name": "stdout",
     "output_type": "stream",
     "text": [
      "Catalogs : 4.0\n",
      "Productivity : 3.9375\n",
      "Music : 3.9318181818181817\n",
      "Games : 3.9116862326574173\n",
      "Reference : 3.861111111111111\n",
      "Health & Fitness : 3.623076923076923\n",
      "Shopping : 3.488095238095238\n",
      "Photo & Video : 3.384375\n",
      "Entertainment : 3.3169291338582676\n",
      "Medical : 3.25\n",
      "Food & Drink : 3.25\n",
      "Book : 3.142857142857143\n",
      "Utilities : 3.123456790123457\n",
      "Education : 3.110169491525424\n",
      "Business : 3.0588235294117645\n",
      "Weather : 3.017857142857143\n",
      "Social Networking : 2.9858490566037736\n",
      "Lifestyle : 2.9215686274509802\n",
      "Finance : 2.8472222222222223\n",
      "Travel : 2.7375\n",
      "Sports : 2.681159420289855\n",
      "News : 2.6627906976744184\n",
      "Navigation : 2.25\n"
     ]
    }
   ],
   "source": [
    "# display the genre and the number of reviews(proxy for users) for free english iOS apps\n",
    "table = {}\n",
    "for genre in freq_table(free_english_ios,12):\n",
    "    total = 0\n",
    "    len_genre = 0 \n",
    "    \n",
    "    for app in free_english_ios:\n",
    "        genre_app = app[12]\n",
    "        if genre_app == genre:\n",
    "            total += float(app[9])\n",
    "            len_genre += 1\n",
    "    avg_rating= total/len_genre\n",
    "    table[genre]= avg_rating\n",
    "    \n",
    "table_display = []\n",
    "for key in table:\n",
    "    key_val_as_tuple = (table[key], key)\n",
    "    table_display.append(key_val_as_tuple)\n",
    "\n",
    "table_sorted = sorted(table_display, reverse = True)\n",
    "for entry in table_sorted:\n",
    "    print(entry[1], ':', entry[0])  "
   ]
  },
  {
   "cell_type": "code",
   "execution_count": 321,
   "metadata": {
    "scrolled": true
   },
   "outputs": [
    {
     "name": "stdout",
     "output_type": "stream",
     "text": [
      "COMMUNICATION : 38456119.167247385\n",
      "VIDEO_PLAYERS : 24727872.452830188\n",
      "SOCIAL : 23253652.127118643\n",
      "PHOTOGRAPHY : 17840110.40229885\n",
      "PRODUCTIVITY : 16787331.344927534\n",
      "GAME : 15588015.603248259\n",
      "TRAVEL_AND_LOCAL : 13984077.710144928\n",
      "ENTERTAINMENT : 11640705.88235294\n",
      "TOOLS : 10787009.952063914\n",
      "NEWS_AND_MAGAZINES : 9549178.467741935\n",
      "BOOKS_AND_REFERENCE : 8767811.894736841\n",
      "SHOPPING : 7036877.311557789\n",
      "PERSONALIZATION : 5201482.6122448975\n",
      "WEATHER : 5074486.197183099\n",
      "HEALTH_AND_FITNESS : 4188821.9853479853\n",
      "MAPS_AND_NAVIGATION : 4056941.7741935486\n",
      "FAMILY : 3697848.1731343283\n",
      "SPORTS : 3638640.1428571427\n",
      "ART_AND_DESIGN : 1986335.0877192982\n",
      "FOOD_AND_DRINK : 1924897.7363636363\n",
      "EDUCATION : 1833495.145631068\n",
      "BUSINESS : 1712290.1474201474\n",
      "LIFESTYLE : 1437816.2687861272\n",
      "FINANCE : 1387692.475609756\n",
      "HOUSE_AND_HOME : 1331540.5616438356\n",
      "DATING : 854028.8303030303\n",
      "COMICS : 817657.2727272727\n",
      "AUTO_AND_VEHICLES : 647317.8170731707\n",
      "LIBRARIES_AND_DEMO : 638503.734939759\n",
      "PARENTING : 542603.6206896552\n",
      "BEAUTY : 513151.88679245283\n",
      "EVENTS : 253542.22222222222\n",
      "MEDICAL : 120550.61980830671\n"
     ]
    }
   ],
   "source": [
    "# display the category and the number of installs for free english Android apps\n",
    "\n",
    "table = {}\n",
    "for category in freq_table(free_english_adr,1):\n",
    "    total = 0\n",
    "    len_category = 0 \n",
    "    \n",
    "    for app in free_english_adr:\n",
    "        category_app = app[1]\n",
    "        if category_app == category:\n",
    "            num_install = app[5]\n",
    "            num_install = num_install.replace('+','').replace(',','')\n",
    "            total += float(num_install)\n",
    "            len_category += 1\n",
    "    avg_installs= total/len_category\n",
    "    table[category]= avg_installs\n",
    "    \n",
    "table_display = []\n",
    "for key in table:\n",
    "    key_val_as_tuple = (table[key], key)\n",
    "    table_display.append(key_val_as_tuple)\n",
    "\n",
    "table_sorted = sorted(table_display, reverse = True)\n",
    "for entry in table_sorted:\n",
    "    print(entry[1], ':', entry[0])  "
   ]
  },
  {
   "cell_type": "code",
   "execution_count": 328,
   "metadata": {},
   "outputs": [
    {
     "name": "stdout",
     "output_type": "stream",
     "text": [
      "EDUCATION : 4.298058252427182\n",
      "ART_AND_DESIGN : 4.185964912280701\n",
      "ENTERTAINMENT : 4.118823529411763\n",
      "GAME : 4.030742459396756\n",
      "COMICS : 4.025454545454546\n",
      "PHOTOGRAPHY : 3.957088122605364\n",
      "WEATHER : 3.871830985915492\n",
      "SHOPPING : 3.781407035175881\n",
      "FAMILY : 3.6957014925373186\n",
      "VIDEO_PLAYERS : 3.6874213836477985\n",
      "AUTO_AND_VEHICLES : 3.674390243902439\n",
      "MAPS_AND_NAVIGATION : 3.648387096774193\n",
      "BOOKS_AND_REFERENCE : 3.638421052631579\n",
      "FINANCE : 3.6375000000000006\n",
      "SOCIAL : 3.6220338983050833\n",
      "HEALTH_AND_FITNESS : 3.615384615384615\n",
      "PARENTING : 3.5913793103448284\n",
      "TOOLS : 3.5262316910785625\n",
      "TRAVEL_AND_LOCAL : 3.517874396135265\n",
      "FOOD_AND_DRINK : 3.4854545454545454\n",
      "HOUSE_AND_HOME : 3.4602739726027405\n",
      "PRODUCTIVITY : 3.4182608695652217\n",
      "PERSONALIZATION : 3.4078231292517014\n",
      "BEAUTY : 3.3905660377358484\n",
      "COMMUNICATION : 3.364808362369337\n",
      "SPORTS : 3.3308970099667774\n",
      "LIFESTYLE : 3.291618497109824\n",
      "NEWS_AND_MAGAZINES : 3.277016129032258\n",
      "LIBRARIES_AND_DEMO : 3.2216867469879515\n",
      "EVENTS : 3.168253968253969\n",
      "DATING : 3.161818181818181\n",
      "MEDICAL : 3.021405750798721\n",
      "BUSINESS : 2.5511056511056505\n"
     ]
    }
   ],
   "source": [
    "# display the category and the average rating for free english Android apps\n",
    "\n",
    "table = {}\n",
    "for category in freq_table(free_english_adr,1):\n",
    "    total = 0\n",
    "    len_category = 0 \n",
    "    \n",
    "    for app in free_english_adr:\n",
    "        category_app = app[1]\n",
    "        if category_app == category:\n",
    "            rating = app[2]\n",
    "            \n",
    "            if rating != 'NaN':\n",
    "                total += float(rating)\n",
    "\n",
    "            len_category += 1\n",
    "    avg_rating= total/len_category\n",
    "    table[category]= avg_rating\n",
    "    \n",
    "table_display = []\n",
    "for key in table:\n",
    "    key_val_as_tuple = (table[key], key)\n",
    "    table_display.append(key_val_as_tuple)\n",
    "\n",
    "table_sorted = sorted(table_display, reverse = True)\n",
    "for entry in table_sorted:\n",
    "    print(entry[1], ':', entry[0])  "
   ]
  },
  {
   "cell_type": "markdown",
   "metadata": {},
   "source": [
    "\n",
    "#### Number of User per Genre \n",
    "Inspecting the above results, we found that social apps shows up on both markets top 3 list which is a good indicator of the popularity which translates to potential large user base. Further study of the user review shows that on average, the user ratings of those social apps are not high in general. Therefore, there is opportunity for improvement. \n",
    "\n",
    "Another sector raise our attention is Medical which are taking a very small portion of both markets, in terms of installs and reviews. The overall ratings for Medical apps are also at the bottom. However, medical sector is such an important one in the physical world, not to mention the significance of our lives. There is obviously a gap between the needs and the availability. \n"
   ]
  },
  {
   "cell_type": "markdown",
   "metadata": {},
   "source": [
    "### Conclusion\n",
    "\n",
    "Based on the analysis above, we will recommend either develop a social networking apps which satisfies certain requirements which are not yet met in the market; or go into the under-developed medical app market to capture potential interests while facing less competition. \n",
    "\n",
    "The foreseeable challenge for the latter could be cultural, religen and possible personal data privacy issues."
   ]
  }
 ],
 "metadata": {
  "kernelspec": {
   "display_name": "Python 3",
   "language": "python",
   "name": "python3"
  },
  "language_info": {
   "codemirror_mode": {
    "name": "ipython",
    "version": 3
   },
   "file_extension": ".py",
   "mimetype": "text/x-python",
   "name": "python",
   "nbconvert_exporter": "python",
   "pygments_lexer": "ipython3",
   "version": "3.7.2"
  }
 },
 "nbformat": 4,
 "nbformat_minor": 2
}
