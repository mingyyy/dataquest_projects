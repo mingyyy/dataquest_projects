{
 "cells": [
  {
   "cell_type": "markdown",
   "metadata": {},
   "source": [
    "## Hacker News Data Analysis\n",
    "\n",
    "### Overview of the project\n",
    "[Hacker News](https://news.ycombinator.com) is a popular site in tech and startup circles, where user posts are voted and comented upon. It was started by the startup incubator Y Combinator. In this project, we will dig into a sample dataset and hopefully find out some interesting results.\n",
    "\n",
    "\n",
    "### Datasets\n",
    "This project has used only approximately 20,000 rows and 8 columns of records randomly sampled which had received comments. "
   ]
  },
  {
   "cell_type": "code",
   "execution_count": 10,
   "metadata": {},
   "outputs": [],
   "source": [
    "from csv import reader\n",
    "opened_file = open(\"/Users/Ming/jupyter/p_apps/HN_posts_year_to_Sep_26_2016.csv\")\n",
    "read_file = reader(opened_file)\n",
    "data_all = list(read_file)\n",
    "headers = data_all[0]\n",
    "hn = data_all[1:]"
   ]
  },
  {
   "cell_type": "code",
   "execution_count": 11,
   "metadata": {},
   "outputs": [
    {
     "name": "stdout",
     "output_type": "stream",
     "text": [
      "['id', 'title', 'url', 'num_points', 'num_comments', 'author', 'created_at']\n",
      "[['12579008',\n",
      "  'You have two days to comment if you want stem cells to be classified as '\n",
      "  'your own',\n",
      "  'http://www.regulations.gov/document?D=FDA-2015-D-3719-0018',\n",
      "  '1',\n",
      "  '0',\n",
      "  'altstar',\n",
      "  '9/26/2016 3:26']]\n"
     ]
    }
   ],
   "source": [
    "from pprint import pprint\n",
    "pprint(headers)\n",
    "pprint(hn[:1])"
   ]
  },
  {
   "cell_type": "code",
   "execution_count": 17,
   "metadata": {},
   "outputs": [
    {
     "name": "stdout",
     "output_type": "stream",
     "text": [
      "9139 10158 273822\n"
     ]
    }
   ],
   "source": [
    "# separate ask and show posts from other posts into diff lists.\n",
    "ask_posts, show_posts, other_posts = [], [], []\n",
    "for row in hn:\n",
    "    title = row[1]\n",
    "    if title.lower().startswith(\"ask hn\"):\n",
    "        ask_posts.append(row)\n",
    "    elif title.lower().startswith(\"show hn\"):\n",
    "        show_posts.append(row)\n",
    "    else:\n",
    "        other_posts.append(row)\n",
    "\n",
    "print(len(ask_posts),len(show_posts),len(other_posts))"
   ]
  },
  {
   "cell_type": "code",
   "execution_count": 18,
   "metadata": {},
   "outputs": [
    {
     "name": "stdout",
     "output_type": "stream",
     "text": [
      "[['12578908', 'Ask HN: What TLD do you use for local development?', '', '4', '7', 'Sevrene', '9/26/2016 2:53'], ['12578522', 'Ask HN: How do you pass on your work when you die?', '', '6', '3', 'PascLeRasc', '9/26/2016 1:17'], ['12577908', 'Ask HN: How a DNS problem can be limited to a geographic region?', '', '1', '0', 'kuon', '9/25/2016 22:57'], ['12577870', 'Ask HN: Why join a fund when you can be an angel?', '', '1', '3', 'anthony_james', '9/25/2016 22:48'], ['12577647', 'Ask HN: Someone uses stock trading as passive income?', '', '5', '2', '00taffe', '9/25/2016 21:50'], ['12576946', 'Ask HN: How hard would it be to make a cheap, hackable phone?', '', '2', '1', 'hkt', '9/25/2016 19:30'], ['12576899', 'Ask HN: What is that one deciding factor that makes a website successful?', '', '22', '22', 'ziggystardust', '9/25/2016 19:22'], ['12576398', 'Ask HN: Is the world really short of software developers?', '', '2', '3', 'chirau', '9/25/2016 17:55'], ['12575803', 'Ask HN: Geolocalized public API?', '', '1', '0', 'andreapaiola', '9/25/2016 15:48'], ['12575743', 'Ask HN: How to sell and idea?', '', '12', '13', 'hacknat', '9/25/2016 15:35']]\n"
     ]
    }
   ],
   "source": [
    "print(ask_posts[:10])\n"
   ]
  },
  {
   "cell_type": "code",
   "execution_count": 21,
   "metadata": {},
   "outputs": [
    {
     "name": "stdout",
     "output_type": "stream",
     "text": [
      "Ask comments receive 10.393478498741656 comments on average.\n",
      "Show comments receive 4.886099625910612 comments on average.\n"
     ]
    }
   ],
   "source": [
    "# find the number of comments for ask and show posts\n",
    "total_ask_comments, total_show_comments = 0, 0\n",
    "for row in ask_posts:\n",
    "    num_comments = int(row[4])\n",
    "    total_ask_comments += num_comments\n",
    "for row in show_posts:\n",
    "    total_show_comments += int(row[4])  \n",
    "avg_ask_comments = total_ask_comments/len(ask_posts)\n",
    "avg_show_comments = total_show_comments/len(show_posts)\n",
    "\n",
    "print(f\"Ask comments receive {avg_ask_comments} comments on average.\")\n",
    "print(f\"Show comments receive {avg_show_comments} comments on average.\")\n",
    "    "
   ]
  },
  {
   "cell_type": "markdown",
   "metadata": {},
   "source": [
    "### Analysis on number of comments\n",
    "\n",
    "The average number of comments for ask posts is more than twice that of show post. This result is expected since the ask posts were aimed to getting an answer therefore receiving more comments.\n",
    "\n",
    "Next we will focus on ask posts and look at the relationship between posted time and the number of comments."
   ]
  },
  {
   "cell_type": "code",
   "execution_count": 33,
   "metadata": {},
   "outputs": [],
   "source": [
    "import datetime as dt\n",
    "result_list = []\n",
    "counts_by_hour = {}\n",
    "comments_by_hour = {}\n",
    "for row in ask_posts:\n",
    "    created_time = row[6]\n",
    "    num_comments = int(row[4])\n",
    "    created_time = dt.datetime.strptime(created_time, '%m/%d/%Y %H:%M')\n",
    "    created_hour = created_time.hour\n",
    "    \n",
    "    if created_hour in counts_by_hour:\n",
    "        counts_by_hour[created_hour] += 1\n",
    "        comments_by_hour[created_hour] += num_comments\n",
    "    else:\n",
    "        counts_by_hour[created_hour] = 1\n",
    "        comments_by_hour[created_hour] = num_comments       \n",
    "    "
   ]
  },
  {
   "cell_type": "code",
   "execution_count": 37,
   "metadata": {},
   "outputs": [
    {
     "name": "stdout",
     "output_type": "stream",
     "text": [
      "24\n"
     ]
    }
   ],
   "source": [
    "# create the average number of comments per hour\n",
    "avg_by_hour = []\n",
    "\n",
    "for h in counts_by_hour:\n",
    "    num_post_hour = counts_by_hour[h]\n",
    "    for k in comments_by_hour:\n",
    "        num_comment_hour = comments_by_hour[k]\n",
    "        if k == h:\n",
    "            avg_by_hour.append([k, num_comment_hour/num_post_hour])\n",
    "    \n",
    "print(len(comments_by_hour))"
   ]
  },
  {
   "cell_type": "code",
   "execution_count": 47,
   "metadata": {},
   "outputs": [
    {
     "name": "stdout",
     "output_type": "stream",
     "text": [
      "Top 5 Hours for Ask Posts Comments\n",
      "15:00: 28.68 average comments per post\n",
      "13:00: 16.32 average comments per post\n",
      "12:00: 12.38 average comments per post\n",
      "02:00: 11.14 average comments per post\n",
      "10:00: 10.68 average comments per post\n"
     ]
    }
   ],
   "source": [
    "swap_avg_by_hour=[]\n",
    "for i in avg_by_hour:\n",
    "    swap_avg_by_hour.append([i[1],i[0]])\n",
    "sorted_swap = sorted(swap_avg_by_hour, reverse=True)\n",
    "print(\"Top 5 Hours for Ask Posts Comments\")\n",
    "for i in sorted_swap[:5]:\n",
    "    t = dt.datetime.strptime(str(i[1]),\"%H\")\n",
    "    t = t.strftime(\"%H:%M\")\n",
    "    n = i[0]\n",
    "    print(f\"{t}: {n:.2f} average comments per post\" )"
   ]
  },
  {
   "cell_type": "markdown",
   "metadata": {},
   "source": [
    "#### Results\n",
    "It is clear that posting a ask post at 15 hour of the day (US time?) has much better chance of getting a comment than any other time, somehow. \n",
    "\n",
    "Let's compare to the result of show posts, where there is no obvious favorite hour. Indeed, the following top 5 hours for show posts are rather close. "
   ]
  },
  {
   "cell_type": "code",
   "execution_count": 48,
   "metadata": {},
   "outputs": [],
   "source": [
    "import datetime as dt\n",
    "result_list = []\n",
    "counts_by_hour = {}\n",
    "comments_by_hour = {}\n",
    "for row in show_posts:\n",
    "    created_time = row[6]\n",
    "    num_comments = int(row[4])\n",
    "    created_time = dt.datetime.strptime(created_time, '%m/%d/%Y %H:%M')\n",
    "    created_hour = created_time.hour\n",
    "    \n",
    "    if created_hour in counts_by_hour:\n",
    "        counts_by_hour[created_hour] += 1\n",
    "        comments_by_hour[created_hour] += num_comments\n",
    "    else:\n",
    "        counts_by_hour[created_hour] = 1\n",
    "        comments_by_hour[created_hour] = num_comments    "
   ]
  },
  {
   "cell_type": "code",
   "execution_count": 50,
   "metadata": {},
   "outputs": [
    {
     "name": "stdout",
     "output_type": "stream",
     "text": [
      "Top 5 Hours for Show Posts Comments\n",
      "12:00: 6.99 average comments per post\n",
      "07:00: 6.68 average comments per post\n",
      "11:00: 6.00 average comments per post\n",
      "08:00: 5.60 average comments per post\n",
      "14:00: 5.52 average comments per post\n"
     ]
    }
   ],
   "source": [
    "# create the average number of comments per hour\n",
    "avg_by_hour = []\n",
    "\n",
    "for h in counts_by_hour:\n",
    "    num_post_hour = counts_by_hour[h]\n",
    "    for k in comments_by_hour:\n",
    "        num_comment_hour = comments_by_hour[k]\n",
    "        if k == h:\n",
    "            avg_by_hour.append([k, num_comment_hour/num_post_hour])\n",
    "    \n",
    "swap_avg_by_hour=[]\n",
    "for i in avg_by_hour:\n",
    "    swap_avg_by_hour.append([i[1],i[0]])\n",
    "sorted_swap = sorted(swap_avg_by_hour, reverse=True)\n",
    "print(\"Top 5 Hours for Show Posts Comments\")\n",
    "for i in sorted_swap[:5]:\n",
    "    t = dt.datetime.strptime(str(i[1]),\"%H\")\n",
    "    t = t.strftime(\"%H:%M\")\n",
    "    n = i[0]\n",
    "    print(f\"{t}: {n:.2f} average comments per post\" )"
   ]
  },
  {
   "cell_type": "markdown",
   "metadata": {},
   "source": [
    "#### Number of Points Received\n",
    "\n",
    "Next, we study the average points received by show and ask posts. Although on average, show post had less comments, show post received more than double the points got by ask post. Let's study further on the time of the posts to determine if certain time are more likely to get points. "
   ]
  },
  {
   "cell_type": "code",
   "execution_count": 52,
   "metadata": {},
   "outputs": [
    {
     "name": "stdout",
     "output_type": "stream",
     "text": [
      "On average, ask post received 11.31 points.\n",
      "On average, show post received 25.02 points.\n"
     ]
    }
   ],
   "source": [
    "avg_ask_points = 0\n",
    "avg_show_points = 0\n",
    "point = 0\n",
    "for row in ask_posts:\n",
    "    point += int(row[3])\n",
    "avg_ask_points = point/len(ask_posts)\n",
    "\n",
    "for row in show_posts:\n",
    "    point += int(row[3])\n",
    "avg_show_points = point/len(show_posts)\n",
    "\n",
    "print(f'On average, ask post received {avg_ask_points:.2f} points.')\n",
    "print(f'On average, show post received {avg_show_points:.2f} points.')"
   ]
  },
  {
   "cell_type": "code",
   "execution_count": 61,
   "metadata": {},
   "outputs": [
    {
     "name": "stdout",
     "output_type": "stream",
     "text": [
      "[[0, 15.547101449275363],\n",
      " [23, 15.862068965517242],\n",
      " [20, 13.234285714285715],\n",
      " [19, 16.057553956834532],\n",
      " [18, 15.144817073170731],\n",
      " [16, 14.340823970037453],\n",
      " [14, 15.09051724137931],\n",
      " [10, 13.321981424148607],\n",
      " [9, 12.456953642384105],\n",
      " [8, 14.683544303797468],\n",
      " [6, 15.994791666666666],\n",
      " [3, 10.524271844660195],\n",
      " [21, 13.930232558139535],\n",
      " [17, 13.88042049934297],\n",
      " [15, 13.94377990430622],\n",
      " [11, 19.258706467661693],\n",
      " [7, 13.995762711864407],\n",
      " [4, 13.95360824742268],\n",
      " [13, 17.018032786885247],\n",
      " [12, 20.905038759689923],\n",
      " [1, 11.866396761133604],\n",
      " [22, 13.331564986737401],\n",
      " [2, 13.224880382775119],\n",
      " [5, 10.662790697674419]]\n"
     ]
    }
   ],
   "source": [
    "# points by hour for show posts\n",
    "points_by_hour = {}\n",
    "for row in show_posts:\n",
    "    created_time = row[6]\n",
    "    num_points = int(row[3])\n",
    "    created_time = dt.datetime.strptime(created_time, '%m/%d/%Y %H:%M')\n",
    "    created_hour = created_time.hour\n",
    "    \n",
    "    if created_hour in points_by_hour:\n",
    "        points_by_hour[created_hour] += num_points\n",
    "        counts_by_hour[created_hour] += 1\n",
    "    else:\n",
    "        points_by_hour[created_hour] = num_points  \n",
    "        counts_by_hour[created_hour] = 1\n",
    "\n",
    "avg_by_hour = []\n",
    "\n",
    "for h in points_by_hour:\n",
    "    num_post_hour = counts_by_hour[h]\n",
    "    for k in points_by_hour:\n",
    "        num_point_hour = points_by_hour[k]\n",
    "        if k == h:\n",
    "            avg_by_hour.append([k, num_point_hour/num_post_hour])\n",
    "pprint(avg_by_hour)"
   ]
  },
  {
   "cell_type": "code",
   "execution_count": 63,
   "metadata": {},
   "outputs": [
    {
     "name": "stdout",
     "output_type": "stream",
     "text": [
      "Top 5 Hours for Show Posts Points\n",
      "12:00: 20.91 average points per post\n",
      "11:00: 19.26 average points per post\n",
      "13:00: 17.02 average points per post\n",
      "19:00: 16.06 average points per post\n",
      "06:00: 15.99 average points per post\n"
     ]
    }
   ],
   "source": [
    "# create the average points per hour for show post\n",
    "avg_by_hour = []\n",
    "\n",
    "for h in counts_by_hour:\n",
    "    num_post_hour = counts_by_hour[h]\n",
    "    for k in points_by_hour:\n",
    "        num_point_hour = points_by_hour[k]\n",
    "        if k == h:\n",
    "            avg_by_hour.append([k, num_point_hour/num_post_hour])\n",
    "    \n",
    "swap_avg_by_hour=[]\n",
    "for i in avg_by_hour:\n",
    "    swap_avg_by_hour.append([i[1],i[0]])\n",
    "sorted_swap = sorted(swap_avg_by_hour, reverse=True)\n",
    "print(\"Top 5 Hours for Show Posts Points\")\n",
    "for i in sorted_swap[:5]:\n",
    "    t = dt.datetime.strptime(str(i[1]),\"%H\")\n",
    "    t = t.strftime(\"%H:%M\")\n",
    "    n = i[0]\n",
    "    print(f\"{t}: {n:.2f} average points per post\" )"
   ]
  },
  {
   "cell_type": "code",
   "execution_count": 64,
   "metadata": {},
   "outputs": [
    {
     "name": "stdout",
     "output_type": "stream",
     "text": [
      "[[2, 10.944237918215613],\n",
      " [1, 9.439716312056738],\n",
      " [22, 9.402088772845953],\n",
      " [21, 9.733590733590734],\n",
      " [19, 8.66304347826087],\n",
      " [17, 12.189097103918229],\n",
      " [15, 21.637770897832816],\n",
      " [14, 10.50682261208577],\n",
      " [13, 17.93243243243243],\n",
      " [11, 9.153846153846153],\n",
      " [10, 13.436170212765957],\n",
      " [9, 7.941441441441442],\n",
      " [7, 9.026548672566372],\n",
      " [3, 9.3690036900369],\n",
      " [23, 7.626822157434402],\n",
      " [20, 8.805882352941177],\n",
      " [16, 10.310880829015543],\n",
      " [8, 10.67704280155642],\n",
      " [0, 9.418604651162791],\n",
      " [18, 11.156351791530945],\n",
      " [12, 13.576023391812866],\n",
      " [4, 10.905349794238683],\n",
      " [6, 8.675213675213675],\n",
      " [5, 9.789473684210526]]\n"
     ]
    }
   ],
   "source": [
    "# points by hour for ask posts\n",
    "points_by_hour = {}\n",
    "for row in ask_posts:\n",
    "    created_time = row[6]\n",
    "    num_points = int(row[3])\n",
    "    created_time = dt.datetime.strptime(created_time, '%m/%d/%Y %H:%M')\n",
    "    created_hour = created_time.hour\n",
    "    \n",
    "    if created_hour in points_by_hour:\n",
    "        points_by_hour[created_hour] += num_points\n",
    "        counts_by_hour[created_hour] += 1\n",
    "    else:\n",
    "        points_by_hour[created_hour] = num_points  \n",
    "        counts_by_hour[created_hour] = 1\n",
    "\n",
    "avg_by_hour = []\n",
    "\n",
    "for h in points_by_hour:\n",
    "    num_post_hour = counts_by_hour[h]\n",
    "    for k in points_by_hour:\n",
    "        num_point_hour = points_by_hour[k]\n",
    "        if k == h:\n",
    "            avg_by_hour.append([k, num_point_hour/num_post_hour])\n",
    "pprint(avg_by_hour)"
   ]
  },
  {
   "cell_type": "code",
   "execution_count": 65,
   "metadata": {},
   "outputs": [
    {
     "name": "stdout",
     "output_type": "stream",
     "text": [
      "Top 5 Hours for Ask Posts Points\n",
      "15:00: 21.64 average points per post\n",
      "13:00: 17.93 average points per post\n",
      "12:00: 13.58 average points per post\n",
      "10:00: 13.44 average points per post\n",
      "17:00: 12.19 average points per post\n"
     ]
    }
   ],
   "source": [
    "# create the average points per hour for ask posts\n",
    "avg_by_hour = []\n",
    "\n",
    "for h in counts_by_hour:\n",
    "    num_post_hour = counts_by_hour[h]\n",
    "    for k in points_by_hour:\n",
    "        num_point_hour = points_by_hour[k]\n",
    "        if k == h:\n",
    "            avg_by_hour.append([k, num_point_hour/num_post_hour])\n",
    "    \n",
    "swap_avg_by_hour=[]\n",
    "for i in avg_by_hour:\n",
    "    swap_avg_by_hour.append([i[1],i[0]])\n",
    "sorted_swap = sorted(swap_avg_by_hour, reverse=True)\n",
    "print(\"Top 5 Hours for Ask Posts Points\")\n",
    "for i in sorted_swap[:5]:\n",
    "    t = dt.datetime.strptime(str(i[1]),\"%H\")\n",
    "    t = t.strftime(\"%H:%M\")\n",
    "    n = i[0]\n",
    "    print(f\"{t}: {n:.2f} average points per post\" )"
   ]
  },
  {
   "cell_type": "markdown",
   "metadata": {},
   "source": [
    "#### Results \n",
    "From the calculation above, yet again 3pm is the best hour for receiving points on average, followed by 1pm. On the other hand, if you want to get more points, it might be wise to submit a show post around noon, from 11 to 13. Just like the comments per hour result, the advantage of the favorite hour is more prominent for ask post. Both number of comments and points per hour are more evenly distributed for show posts. \n"
   ]
  },
  {
   "cell_type": "markdown",
   "metadata": {},
   "source": [
    "#### Authors with the most points and comments\n",
    "\n",
    "Let's list the top authors with the most number of points/comments recieved, by creating a dictionary of author and points/comments.\n"
   ]
  },
  {
   "cell_type": "code",
   "execution_count": 80,
   "metadata": {},
   "outputs": [
    {
     "name": "stdout",
     "output_type": "stream",
     "text": [
      "1. ingve has 69465 points.\n",
      "2. prostoalex has 32510 points.\n",
      "3. jonbaer has 26157 points.\n",
      "4. nkurz has 21085 points.\n",
      "5. adamnemecek has 21071 points.\n",
      "6. walterbell has 19810 points.\n",
      "7. dnetesn has 19253 points.\n",
      "8. jseliger has 17740 points.\n",
      "9. uptown has 16900 points.\n",
      "10. DiabloD3 has 15846 points.\n",
      "\n",
      "\n",
      "1.ingve has 27940 comments.\n",
      "2.prostoalex has 21572 comments.\n",
      "3.jseliger has 13911 comments.\n",
      "4.whoishiring has 12892 comments.\n",
      "5.nkurz has 11643 comments.\n",
      "6.walterbell has 9814 comments.\n",
      "7.jonbaer has 9271 comments.\n",
      "8.dnetesn has 8650 comments.\n",
      "9.uptown has 8555 comments.\n",
      "10.coloneltcb has 8262 comments.\n"
     ]
    }
   ],
   "source": [
    "author_points = {}\n",
    "author_comments = {}\n",
    "for row in hn:\n",
    "    author = row[5]\n",
    "    point = int(row[3])\n",
    "    comment = int(row[4])\n",
    "    if author in author_points:\n",
    "        author_points[author] += point\n",
    "    else:\n",
    "        author_points[author] = point\n",
    "        \n",
    "    if author in author_comments:\n",
    "        author_comments[author] += comment\n",
    "    else:\n",
    "        author_comments[author] = comment\n",
    "        \n",
    "author_point_list = []\n",
    "author_comment_list = []\n",
    "for k, v in author_points.items():\n",
    "    author_point_list.append([v, k])\n",
    "    \n",
    "for k, v in author_comments.items():\n",
    "    author_comment_list.append([v, k])\n",
    "    \n",
    "author_point_list = sorted(author_point_list,reverse = True)\n",
    "author_comment_list = sorted(author_comment_list,reverse = True)\n",
    "for k, item in enumerate(author_point_list[:10], 1):\n",
    "    print(f\"{k}. {item[1]} has {item[0]} points.\")\n",
    "    \n",
    "print(\"\\n\")\n",
    "for k, item in enumerate(author_comment_list[:10],1):\n",
    "    print(f\"{k}.{item[1]} has {item[0]} comments.\")    "
   ]
  },
  {
   "cell_type": "markdown",
   "metadata": {},
   "source": [
    "#### Results\n",
    "Author \"ingve\" tops both of the lists, with a whopping 69465 points which more than double that of \"prostoalex\" the runner up in both lists. In the matter of fact, most of the top 10 authors at the point list also show up at the comment list. This could be explained that the posts received more comments also been rewarded with more points. "
   ]
  }
 ],
 "metadata": {
  "kernelspec": {
   "display_name": "Python 3",
   "language": "python",
   "name": "python3"
  },
  "language_info": {
   "codemirror_mode": {
    "name": "ipython",
    "version": 3
   },
   "file_extension": ".py",
   "mimetype": "text/x-python",
   "name": "python",
   "nbconvert_exporter": "python",
   "pygments_lexer": "ipython3",
   "version": "3.7.2"
  }
 },
 "nbformat": 4,
 "nbformat_minor": 2
}
